{
 "cells": [
  {
   "metadata": {},
   "cell_type": "markdown",
   "source": "# Finding a local minimiser",
   "id": "441b80434f1c51ff"
  },
  {
   "cell_type": "code",
   "id": "initial_id",
   "metadata": {
    "collapsed": true,
    "ExecuteTime": {
     "end_time": "2025-01-17T18:34:30.852145Z",
     "start_time": "2025-01-17T18:34:30.428981Z"
    }
   },
   "source": [
    "import numpy as np\n",
    "import sympy as sp\n",
    "import matplotlib.pyplot as plt"
   ],
   "outputs": [],
   "execution_count": 1
  },
  {
   "metadata": {},
   "cell_type": "markdown",
   "source": "## The Levenberg–Marquardt method",
   "id": "f601256342b5bce6"
  },
  {
   "metadata": {},
   "cell_type": "markdown",
   "source": [
    "While the Newton–Raphson method converges rapidly to a local minimiser $\\boldsymbol{\\alpha}$ once the iterates are sufficiently close to $\\boldsymbol{\\alpha}$, the method can \"behave rather badly\" if $\\mathbf{x}$ is not close to $\\boldsymbol{\\alpha}$.\n",
    "\n",
    "The solution to this difficulty is to adapt the Newton–Raphson method to be a line search method to derive the Levenberg–Marquardt method. This method is widely used for non-linear least squares problems, where the extra robustness of this method is beneficial.\n",
    "\n",
    "The fundamental idea is to search along the line $\\mathbf{x}(t) = \\mathbf{x} + t \\mathbf{s}$ in the search direction $\\mathbf{s}$ that is given by the Newton–Raphson search direction found by solving,\n",
    "\n",
    "$$\n",
    "\\mathbf{H}(\\mathbf{x}) \\mathbf{s} = \\nabla f(\\mathbf{x})\n",
    "$$"
   ],
   "id": "3c5c1913a5c58c75"
  },
  {
   "metadata": {},
   "cell_type": "markdown",
   "source": [
    "The Levenberg–Marquardt method is an example of a descent method, provided $\\mathbf{H}(\\mathbf{x})$ is positive definite. To see this, we consider the first-order Taylor polynomial approximation for $f$ about $\\mathbf{x} \\neq \\alpha$, which is a good approximation close to $\\mathbf{x}$. We have:\n",
    "\n",
    "$$\n",
    "f(\\mathbf{x} + \\epsilon \\mathbf{s}) \\simeq f(\\mathbf{x}) + \\epsilon \\mathbf{s}^T \\nabla f(\\mathbf{x}),\n",
    "$$\n",
    "\n",
    "so that $\\mathbf{s}$ is a descent direction if $\\mathbf{s}^T \\nabla f(\\mathbf{x}) < 0$. Now we merely need to note that for the Newton–Raphson method we have:\n",
    "\n",
    "$$\n",
    "\\mathbf{s}^T \\nabla f(\\mathbf{x}) = -\\mathbf{s}^T \\mathbf{H}(\\mathbf{x}) \\mathbf{s},\n",
    "$$\n",
    "\n",
    "and when $\\mathbf{H}(\\mathbf{x})$ is positive definite, this is negative. The significance of this result is that, as long as $\\mathbf{H}(\\mathbf{x})$ is positive definite at each iteration, the Levenberg–Marquardt method converges to a local minimiser, if one exists."
   ],
   "id": "460e71f2bea97d2c"
  },
  {
   "metadata": {},
   "cell_type": "markdown",
   "source": [
    "However, there is no guarantee that $\\mathbf{H}(\\mathbf{x})$ will be positive definite, and we must consider what to do if it is not.\n",
    "\n",
    "- One alternative would be to abandon the current search and start again with a new initial position, but this is usually a last resort.\n",
    "- Another alternative would be to choose another search direction that does give a descent direction, such as the steepest descent direction\n",
    "$$\\mathbf{s} = -\\nabla f(\\mathbf{x})$$\n",
    "\n",
    "The most popular alternative method is to use a search direction that is a compromise between the Newton–Raphson search direction and the steepest descent search direction, given implicitly by:\n",
    "\n",
    "$$\n",
    "\\left( \\mathbf{H}(\\mathbf{x}) + a \\mathbf{I} \\right) \\mathbf{s} = -\\nabla f(\\mathbf{x})\n",
    "$$\n",
    "\n",
    "where the value of $a$ is chosen so that $\\mathbf{H}(\\mathbf{x}) + a \\mathbf{I}$ is a positive definite matrix, ensuring that the direction of search is a descent direction.\n",
    "\n",
    "We can see that a number $a$ can be found with this property as follows.\n",
    "\n",
    "- Calculate the $\\mathbf{LDL}^T$ decomposition of $\\mathbf{H}(\\mathbf{x})$ and let the diagonal entries of $\\mathbf{D}$ be $d_1, d_2, \\dots, d_n$\n",
    "    - A straightforward calculation shows that the $\\mathbf{LDL}^T$ decomposition of $\\mathbf{H}(\\mathbf{x}) + a \\mathbf{I}$ will give a diagonal matrix with diagonal entries $d_1 + a, d_2 + a, \\dots, d_n + a$\n",
    "\n",
    "So if we choose a $a$ to be larger than the absolute value of the most negative $d_i$, then all the diagonal entries will be positive, and hence\n",
    "$$\\mathbf{H}(\\mathbf{x}) + a \\mathbf{I}$$\n",
    "will be positive definite. Notice that if $a = 0$, we have the Newton–Raphson search direction, whereas if $a$ is very large, we essentially have the steepest descent search direction since, for large $a$,\n",
    "$$(\\mathbf{H}(\\mathbf{x}) + a\\mathbf{I})\\mathbf{s} \\simeq a\\mathbf{s}$$\n"
   ],
   "id": "98c132b8afdf1a30"
  },
  {
   "metadata": {},
   "cell_type": "markdown",
   "source": [
    "---\n",
    "&nbsp;\n",
    "### Procedure - Levenberg–Marquardt Method\n",
    "\n",
    "To find a local minimiser for a smooth function $f$ of several variables by the Levenberg–Marquardt method, proceed as follows:\n",
    "\n",
    "1. Determine a starting vector $\\mathbf{x}$\n",
    "\n",
    "2. Find the $\\mathbf{LDL}^T$ decomposition of $\\mathbf{H}(\\mathbf{x})$, where $\\mathbf{H}$ is the Hessian matrix for $f$, and use it to determine whether or not $\\mathbf{H}(\\mathbf{x})$ is positive definite\n",
    "\n",
    "    - (i) If $\\mathbf{H}(\\mathbf{x})$ is positive definite, then solve the equation:\n",
    "\n",
    "      $$\n",
    "      \\mathbf{H}(\\mathbf{x}) \\mathbf{s} = -\\nabla f(\\mathbf{x})\n",
    "      $$\n",
    "\n",
    "      using the $\\mathbf{LDL}^T$ decomposition, to determine the search direction $\\mathbf{s}$\n",
    "\n",
    "    - (ii) If $\\mathbf{H}(\\mathbf{x})$ is not positive definite, then find some value $a$ such that $\\mathbf{H}(\\mathbf{x}) + a\\mathbf{I}$ is positive definite and solve:\n",
    "\n",
    "      $$\n",
    "      (\\mathbf{H}(\\mathbf{x}) + a\\mathbf{I})\\mathbf{s} = -\\nabla f(\\mathbf{x})\n",
    "      $$\n",
    "\n",
    "      to determine the search direction $\\mathbf{s}$\n",
    "\n",
    "3. Determine a value of $t$ that minimises $f(\\mathbf{x} + t\\mathbf{s})$, and set $\\widetilde{\\mathbf{x}} = \\mathbf{x} + t\\mathbf{s}$ for this value of $t$.\n",
    "\n",
    "4. If the convergence criteria are not satisfied, then replace $\\mathbf{x}$ with $\\widetilde{\\mathbf{x}}$ and repeat from step 2.\n",
    "\n"
   ],
   "id": "a6fbe9e9907b5405"
  },
  {
   "metadata": {},
   "cell_type": "markdown",
   "source": [
    "---\n",
    "&nbsp;\n",
    "\n",
    "If, when locating the line minimiser of $f(\\mathbf{x} + t\\mathbf{s})$, we instead chose a fixed value $t = 1$, then we would recover the basic Newton–Raphson iteration formula. So we expect that having the additional freedom of choosing $t$ will yield a new vector that must be at least as good as the basic Newton–Raphson iterate, and may be significantly better. Moreover, this possibility of improvement is acquired at relatively little extra cost, at least for large problems.\n",
    "\n",
    "It can be shown that, as the iterates of the Levenberg–Marquardt method get close to a local minimiser, we would expect the values of $t$ obtained in step 3 of Procedure 5 to tend to 1, that is, the iterates should tend to the ordinary Newton–Raphson iterates, and so the rate of convergence of the Levenberg–Marquardt method is quadratic close to a local minimiser."
   ],
   "id": "74f886e2702bfcad"
  },
  {
   "metadata": {},
   "cell_type": "markdown",
   "source": [
    "----\n",
    "&nbsp;\n",
    "## Python Implementation\n",
    "Levenberg–Marquardt iteration implementation"
   ],
   "id": "44ef7bd97fe3dd9f"
  },
  {
   "metadata": {},
   "cell_type": "markdown",
   "source": [
    "The Levenberg–Marquardt method conducts a repeated line search, similar to that of steepest descent. However, the line search is performed in a direction $\\mathbf{s}$ given by\n",
    "\n",
    "$\\displaystyle \\quad \\mathbf{H}(\\mathbf{x}) \\, \\mathbf{s} = - \\boldsymbol{\\nabla} f(\\mathbf{x}) \\quad$ if $\\mathbf{H}(\\mathbf{x})$ is positive definite, or\n",
    "\n",
    "$\\displaystyle \\quad (\\mathbf{H}(\\mathbf{x}) + a \\mathbf{I}) \\, \\mathbf{s} = - \\boldsymbol{\\nabla} f(\\mathbf{x}) \\quad$ otherwise, where $a$ is chosen to ensure that\n",
    "$\\mathbf{H}(\\mathbf{x}) + a \\mathbf{I}$ is positive definite.\n",
    "\n",
    "In the implementation below, we take $a$ to be $1.1 \\| \\mathbf{H}(\\mathbf{x}) \\|_\\infty$, where the $\\infty$-norm of a matrix is the largest absolute row sum, that is, the largest number of obtained from summing the absolute values of the elements of each row. This is guaranteed to ensure $\\mathbf{H}(\\mathbf{x}) + a \\mathbf{I}$ is positive definite. (The reasons for this reply on properties of matrices not covered within this module.\n",
    "\n",
    "Essentially, a matrix is positive definite if all its eigenvalues are positive. If the eigenvalues of $\\mathbf{H}$ are $\\lambda_1, \\lambda_2, \\ldots, \\lambda_n$, then the eigenvalues of $\\mathbf{H} + a\\mathbf{I}$ are $\\lambda_1 + a, \\lambda_2 + a, \\ldots, \\lambda_n + a$.\n",
    "\n",
    "So if we choose $a$ larger than the magnitude of the most negative eigenvector,  $\\mathbf{H} + a\\mathbf{I}$ will be positive definite. It can be shown that the magnitude of all eigenvalues is less than  $\\| \\mathbf{H} \\|_\\infty$, so the magnitude of the most negative eigenvalue will be less than $\\| \\mathbf{H} \\|_\\infty\\,$ , and so taking $a= 1.1 \\| \\mathbf{H} \\|_\\infty$ ensures all the eigenvalues of $\\mathbf{H} + a\\mathbf{I}$ are positive, and so it is positive definite.)\n",
    "\n",
    "The implementation below uses the same  `ldl_solve` function as used in `newton_raphson` above to solve the system of equations for the search direction, since we already need the $\\mathbf{LDL}^T$ decomposition to check for positive definiteness.\n",
    "\n",
    "It also uses the `line_search` function defined for `steepest_descent` to conduct the line search at each iteration."
   ],
   "id": "db4ca8b47fc3cc04"
  },
  {
   "metadata": {
    "ExecuteTime": {
     "end_time": "2025-01-17T18:34:35.734538Z",
     "start_time": "2025-01-17T18:34:35.518515Z"
    }
   },
   "cell_type": "code",
   "source": [
    "from numpy.linalg import norm\n",
    "from scipy.optimize import minimize_scalar\n",
    "from Procedures.ldl_decomposition import ldl_decomposition, ldl_solve\n",
    "from Procedures.LU_functions import forward_substitution, backward_substitution"
   ],
   "id": "f5a4acddef671234",
   "outputs": [],
   "execution_count": 2
  },
  {
   "metadata": {
    "ExecuteTime": {
     "end_time": "2025-01-17T18:34:38.015963Z",
     "start_time": "2025-01-17T18:34:38.010979Z"
    }
   },
   "cell_type": "code",
   "source": [
    "def plot_contour(f_func, f_symbolic, x_range, y_range,\n",
    "                 levels=50, cmap='viridis', title=None):\n",
    "    \"\"\"\n",
    "    Plots a contour plot for a given function.\n",
    "\n",
    "    Parameters\n",
    "    ----------\n",
    "    f_func : callable\n",
    "        Lambdified function to evaluate on the grid.\n",
    "    f_symbolic : sympy.Expr\n",
    "        Symbolic representation of the function (for the title).\n",
    "    x_range : tuple\n",
    "        Tuple specifying the range for the x-axis (xmin, xmax).\n",
    "    y_range : tuple\n",
    "        Tuple specifying the range for the y-axis (ymin, ymax).\n",
    "    levels : int, optional\n",
    "        Number of contour levels for the plot (default is 50).\n",
    "    cmap : str, optional\n",
    "        Colormap for the contour plot (default is 'viridis').\n",
    "    title : str, optional\n",
    "        Custom title for the plot. If None, the title is generated from the function.\n",
    "    \"\"\"\n",
    "    # Generate a meshgrid over the specified range\n",
    "    x = np.linspace(x_range[0], x_range[1], 100)\n",
    "    y = np.linspace(y_range[0], y_range[1], 100)\n",
    "    X, Y = np.meshgrid(x, y)\n",
    "\n",
    "    # Evaluate the function on the grid\n",
    "    Z = f_func(X, Y)\n",
    "\n",
    "    # Create the contour plot\n",
    "    plt.figure(figsize=(10, 8))\n",
    "    contour = plt.contourf(X, Y, Z, levels=levels, cmap=cmap)\n",
    "    plt.colorbar(contour, label='Function Value')  # Add colorbar with label\n",
    "    plt.contour(X, Y, Z, levels=10, colors='black', linewidths=0.5)  # Overlay contour lines\n",
    "\n",
    "    # Add axis labels\n",
    "    plt.xlabel('x')\n",
    "    plt.ylabel('y')\n",
    "\n",
    "    # Set the title\n",
    "    if title is None:\n",
    "        title = f\"Contour Plot\\n$f(x, y) = {sp.latex(f_symbolic)}$\"\n",
    "    plt.title(title)\n",
    "\n",
    "    # Show the plot\n",
    "    plt.show()"
   ],
   "id": "b71033d74ad4f3d1",
   "outputs": [],
   "execution_count": 3
  },
  {
   "metadata": {
    "ExecuteTime": {
     "end_time": "2025-01-17T18:34:40.585138Z",
     "start_time": "2025-01-17T18:34:40.581758Z"
    }
   },
   "cell_type": "code",
   "source": [
    "def line_search(f_func, x, s):\n",
    "    \"\"\"\n",
    "    Finds the minimum of the function f, starting from x, in the direction s.\n",
    "\n",
    "    Arguments:\n",
    "        f_func - Lambdified function to minimize\n",
    "        x      - NumPy array (current position)\n",
    "        s      - NumPy array (search direction)\n",
    "\n",
    "    Returns:\n",
    "        Minimiser (NumPy array) and whether the search was successful\n",
    "    \"\"\"\n",
    "    # Define a function of the single variable t, representing f(x + t * s)\n",
    "    def g(t):\n",
    "        return f_func(*(x + t * s))  # Unpack x + t * s into f_func\n",
    "\n",
    "    # Perform the line search\n",
    "    result = minimize_scalar(g)\n",
    "\n",
    "    # Update x using the minimiser t\n",
    "    t_min = result.x\n",
    "    return x + t_min * s, result.success"
   ],
   "id": "a2a6b36c361aa6be",
   "outputs": [],
   "execution_count": 4
  },
  {
   "metadata": {
    "ExecuteTime": {
     "end_time": "2025-01-17T18:34:43.145293Z",
     "start_time": "2025-01-17T18:34:43.141168Z"
    }
   },
   "cell_type": "code",
   "source": [
    "def compute_grad_hessian(f, variables, verbose=True):\n",
    "    \"\"\"\n",
    "    Computes symbolic gradient and Hessian matrix of a given Sympy function.\n",
    "\n",
    "    Parameters\n",
    "    ----------\n",
    "    f : sympy.Expr\n",
    "        The function whose gradient and Hessian we want.\n",
    "    variables : list of sympy.Symbol\n",
    "        The variables with respect to which we differentiate.\n",
    "    verbose : bool, optional\n",
    "        If True, print the symbolic gradient and Hessian.\n",
    "\n",
    "    Returns\n",
    "    -------\n",
    "    gradient : sympy.Matrix\n",
    "        The symbolic gradient (column vector).\n",
    "    Hessian : sympy.Matrix\n",
    "        The symbolic Hessian matrix.\n",
    "    \"\"\"\n",
    "    gradient = sp.Matrix([sp.diff(f, var) for var in variables])\n",
    "    if verbose:\n",
    "        print(\"Gradient:\")\n",
    "        display(gradient)\n",
    "\n",
    "    Hessian = sp.Matrix([\n",
    "        [sp.diff(f, var1, var2) for var2 in variables]\n",
    "        for var1 in variables\n",
    "    ])\n",
    "\n",
    "    if verbose:\n",
    "        print(\"\\nHessian\")\n",
    "        display(Hessian)\n",
    "        print()\n",
    "\n",
    "    return gradient, Hessian"
   ],
   "id": "b42af73c1c40f49c",
   "outputs": [],
   "execution_count": 5
  },
  {
   "metadata": {
    "ExecuteTime": {
     "end_time": "2025-01-17T18:34:50.657717Z",
     "start_time": "2025-01-17T18:34:50.649873Z"
    }
   },
   "cell_type": "code",
   "source": [
    "def levenberg_marquardt(f, x0, variables, epsilon=0.5e-4, delta=0.5e-4, eta=0.5e-4,\n",
    "                   maxiter=100, verbose=False):\n",
    "    \"\"\"\n",
    "    Minimize a scalar function f(x) using the Levenberg Marquardt method.\n",
    "\n",
    "    Parameters\n",
    "    ----------\n",
    "    f : sympy.Expr\n",
    "        The scalar function to be minimized. Should be a function of\n",
    "        the variables in `variables`.\n",
    "    x0 : array_like\n",
    "        The initial guess for the minimizer (e.g., [x0, y0, ...]).\n",
    "    variables : list of sympy.Symbol\n",
    "        The variables (in order) for f.\n",
    "    epsilon : float, optional\n",
    "        Convergence tolerance on the norm of the step: ||x_{k+1} - x_k||.\n",
    "    delta : float, optional\n",
    "        Convergence tolerance on the absolute change in function values:\n",
    "        |f(x_{k+1}) - f(x_k)|.\n",
    "    eta : float, optional\n",
    "        Convergence tolerance on the norm of the gradient: ||∇f(x_k)||.\n",
    "    maxiter : int, optional\n",
    "        Maximum number of iterations to attempt.\n",
    "    verbose : bool, optional\n",
    "        If True, prints diagnostic information at each iteration.\n",
    "\n",
    "    Returns\n",
    "    -------\n",
    "    result : dict\n",
    "        A dictionary containing:\n",
    "        - 'x_min': np.ndarray, the estimated minimizer.\n",
    "        - 'iterations': int, the number of iterations taken.\n",
    "        - 'success': bool, whether the method converged successfully.\n",
    "        - 'f_min': float, the function value at the final point.\n",
    "        - 'reason': str, a message describing why the method terminated.\n",
    "    \"\"\"\n",
    "    # obtain the size of the problem, H will be n x n\n",
    "    n = len(x0)\n",
    "\n",
    "    # copy the given x0 into the array x\n",
    "    x = np.array(x0, dtype=float)\n",
    "\n",
    "    # Prepare numeric versions of f, gradient, and Hessian (only done once)\n",
    "    f_func = sp.lambdify(variables, f, 'numpy')\n",
    "\n",
    "    gradient_sym, hessian_sym = compute_grad_hessian(f, variables, verbose)\n",
    "    grad_f = [sp.lambdify(variables, g, 'numpy') for g in gradient_sym]\n",
    "    hessian_f = sp.lambdify(variables, hessian_sym, 'numpy')\n",
    "\n",
    "    # Evaluate the function at the initial point\n",
    "    f_current = f_func(*x)\n",
    "\n",
    "    # Main iteration loop\n",
    "    for iteration in range(maxiter):\n",
    "        # Evaluate gradient\n",
    "        grad_eval = np.array([g(*x) for g in grad_f])\n",
    "\n",
    "        # Check gradient-norm stopping criterion\n",
    "        if norm(grad_eval, 2) < eta:\n",
    "            return {\n",
    "                'x_min': x,\n",
    "                'iterations': iteration,\n",
    "                'success': True,\n",
    "                'f_min': f_current,\n",
    "                'reason': 'Gradient norm below tolerance'\n",
    "            }\n",
    "\n",
    "        # Evaluate Hessian and do LDL^T decomposition\n",
    "        H_eval = np.array(hessian_f(*x))\n",
    "        L, D, p = ldl_decomposition(H_eval, verbose=verbose)\n",
    "\n",
    "        # if not positive definite, update H to be H + a I,\n",
    "        # and recalculate the LDL^T decomposition\n",
    "        if np.any(np.diag(D) <= 0):\n",
    "            H_eval = H_eval + 1.1 * norm(H_eval, np.inf) * np.identity(n)\n",
    "            L, D, p = ldl_decomposition(H_eval, verbose=verbose)\n",
    "\n",
    "        # Solve H_eval * d = -grad_eval using LDL^T\n",
    "        d = ldl_solve(L, D, p, -grad_eval)\n",
    "\n",
    "        # Perform line search in the direction d\n",
    "        x_new, success = line_search(f_func, x, d)\n",
    "        if not success:\n",
    "            return {\n",
    "                'x_min': x,\n",
    "                'iterations': iteration,\n",
    "                'success': False,\n",
    "                'f_min': f_current,\n",
    "                'reason': 'Line search failed'\n",
    "            }\n",
    "\n",
    "        # Evaluate the function at the new point\n",
    "        f_new = f_func(*x_new)\n",
    "\n",
    "        # Diagnostic prints\n",
    "        if verbose:\n",
    "            print(f\"Iteration {iteration + 1}: x = {x_new}, f(x) = {f_new}\")\n",
    "\n",
    "        # Check for small step size and small function-value change\n",
    "        if norm(x_new - x, 2) < epsilon and abs(f_new - f_current) < delta:\n",
    "            return {\n",
    "                'x_min': x_new,\n",
    "                'iterations': iteration + 1,\n",
    "                'success': True,\n",
    "                'f_min': f_new,\n",
    "                'reason': 'Change in x and f(x) below tolerances'\n",
    "            }\n",
    "\n",
    "        # Accept the new point\n",
    "        x = x_new\n",
    "        f_current = f_new\n",
    "\n",
    "    # If we exit the loop, we haven't converged within maxiter\n",
    "    return {\n",
    "        'x_min': x,\n",
    "        'iterations': maxiter,\n",
    "        'success': False,\n",
    "        'f_min': f_current,\n",
    "        'reason': 'Exceeded maximum iterations'\n",
    "    }"
   ],
   "id": "7e7cd5392c5f5ca4",
   "outputs": [],
   "execution_count": 6
  },
  {
   "metadata": {},
   "cell_type": "markdown",
   "source": [
    "----\n",
    "&nbsp;\n",
    "### Example 1\n",
    "\n",
    "Use the Levenberg–Marquardt method to find the minimiser, to six decimal places, of the function\n",
    "\n",
    "$$f(x,y) = 2x^3 - 2xy + 3y^2-10y + 12$$"
   ],
   "id": "724af13b4ab9a88c"
  },
  {
   "metadata": {},
   "cell_type": "markdown",
   "source": "In this example we are not given a starting point, so we start by plotting a contour map to locate an approximate location for the minimiser.",
   "id": "fb45e2f9e95ae79e"
  },
  {
   "metadata": {
    "ExecuteTime": {
     "end_time": "2025-01-17T18:34:55.455842Z",
     "start_time": "2025-01-17T18:34:55.414251Z"
    }
   },
   "cell_type": "code",
   "source": [
    "# Define the variables\n",
    "x, y = sp.symbols('x y')\n",
    "variables = [x, y]\n",
    "\n",
    "# Define function\n",
    "f = 2*x**3 - 2*x*y + 3*y** 2 - 10*y + 12\n",
    "# Lambdify for plotting\n",
    "f_func = sp.lambdify([x, y], f, 'numpy')\n",
    "display(f)"
   ],
   "id": "20b4c537d4474708",
   "outputs": [
    {
     "data": {
      "text/plain": [
       "2*x**3 - 2*x*y + 3*y**2 - 10*y + 12"
      ],
      "text/latex": "$\\displaystyle 2 x^{3} - 2 x y + 3 y^{2} - 10 y + 12$"
     },
     "metadata": {},
     "output_type": "display_data"
    }
   ],
   "execution_count": 7
  },
  {
   "metadata": {
    "ExecuteTime": {
     "end_time": "2025-01-17T18:34:57.926128Z",
     "start_time": "2025-01-17T18:34:57.726401Z"
    }
   },
   "cell_type": "code",
   "source": "plot_contour(f_func, f, (-3, 3), (-3, 3))",
   "id": "96e33e06776466d6",
   "outputs": [
    {
     "data": {
      "text/plain": [
       "<Figure size 1000x800 with 2 Axes>"
      ],
      "image/png": "[encoded data removed]"
     },
     "metadata": {},
     "output_type": "display_data"
    }
   ],
   "execution_count": 8
  },
  {
   "metadata": {},
   "cell_type": "markdown",
   "source": [
    "Based on the contour plot we could start around $\\mathbf{x}_0 = (1, 2)$\n",
    "\n",
    "As we are benchmarking this against Newton-Raphson, we start at the same point."
   ],
   "id": "786fd71c6e715d0e"
  },
  {
   "metadata": {
    "ExecuteTime": {
     "end_time": "2025-01-17T18:35:04.281100Z",
     "start_time": "2025-01-17T18:35:04.278693Z"
    }
   },
   "cell_type": "code",
   "source": [
    "# Define the initial point\n",
    "x0 = [3, 0]"
   ],
   "id": "b7c5259125d5af56",
   "outputs": [],
   "execution_count": 9
  },
  {
   "metadata": {
    "ExecuteTime": {
     "end_time": "2025-01-17T18:35:08.707868Z",
     "start_time": "2025-01-17T18:35:06.765839Z"
    }
   },
   "cell_type": "code",
   "source": [
    "result = levenberg_marquardt(f, x0=x0, variables=variables,\n",
    "                                 epsilon=0.5e-6, delta=0.5e-6, eta=0.5e-6,\n",
    "                                 verbose=True)\n",
    "minimiser = result['x_min']\n",
    "print()\n",
    "for key, value in result.items():\n",
    "    print(f\"{key} : {value}\")\n",
    "\n",
    "print(\"\\nPerformance\")\n",
    "%timeit levenberg_marquardt(f, x0=x0, variables=variables, epsilon=0.5e-6, delta=0.5e-6, eta=0.5e-6, verbose=False)"
   ],
   "id": "aaf7cddc355dcd8d",
   "outputs": [
    {
     "name": "stdout",
     "output_type": "stream",
     "text": [
      "Gradient:\n"
     ]
    },
    {
     "data": {
      "text/plain": [
       "Matrix([\n",
       "[   6*x**2 - 2*y],\n",
       "[-2*x + 6*y - 10]])"
      ],
      "text/latex": "$\\displaystyle \\left[\\begin{matrix}6 x^{2} - 2 y\\\\- 2 x + 6 y - 10\\end{matrix}\\right]$"
     },
     "metadata": {},
     "output_type": "display_data"
    },
    {
     "name": "stdout",
     "output_type": "stream",
     "text": [
      "\n",
      "Hessian\n"
     ]
    },
    {
     "data": {
      "text/plain": [
       "Matrix([\n",
       "[12*x, -2],\n",
       "[  -2,  6]])"
      ],
      "text/latex": "$\\displaystyle \\left[\\begin{matrix}12 x & -2\\\\-2 & 6\\end{matrix}\\right]$"
     },
     "metadata": {},
     "output_type": "display_data"
    },
    {
     "name": "stdout",
     "output_type": "stream",
     "text": [
      "\n",
      "Iteration 1: x = [1.33497673 2.66859893], f(x) = 4.311528453211597\n",
      "Iteration 2: x = [0.86152282 1.88503291], f(x) = 1.8406020130243803\n",
      "Iteration 3: x = [0.80403924 1.93598001], f(x) = 1.8106370331590256\n",
      "Iteration 4: x = [0.80297949 1.93432603], f(x) = 1.8106269187115949\n",
      "Iteration 5: x = [0.80297911 1.93432637], f(x) = 1.8106269187103265\n",
      "\n",
      "x_min : [0.80297911 1.93432637]\n",
      "iterations : 5\n",
      "success : True\n",
      "f_min : 1.8106269187103265\n",
      "reason : Gradient norm below tolerance\n",
      "\n",
      "Performance\n",
      "2.3 ms ± 28.8 μs per loop (mean ± std. dev. of 7 runs, 100 loops each)\n"
     ]
    }
   ],
   "execution_count": 10
  },
  {
   "metadata": {},
   "cell_type": "markdown",
   "source": [
    "----\n",
    "&nbsp;\n",
    "### Example 2\n",
    "\n",
    "Starting at $(-1.2,1)$, compute the minimiser, to six decimal places, of Rosenbrock's function\n",
    "\n",
    "$$f(x,y) =  100(y - x^2)^2 + (1 - x)^2$$\n",
    "\n",
    "using the Levenberg–Marquardt method."
   ],
   "id": "41eae0e889f9e7bf"
  },
  {
   "metadata": {
    "ExecuteTime": {
     "end_time": "2025-01-17T18:35:14.638009Z",
     "start_time": "2025-01-17T18:35:14.629914Z"
    }
   },
   "cell_type": "code",
   "source": [
    "# Define the variables\n",
    "x, y = sp.symbols('x y')\n",
    "variables = [x, y]\n",
    "\n",
    "# Define the initial point\n",
    "x0 = [-1.2, 1]\n",
    "\n",
    "# Define function\n",
    "f = 100*(y - x**2)**2 + (1 - x)**2\n",
    "# Lambdify for later\n",
    "f_func = sp.lambdify([x, y], f, 'numpy')\n",
    "display(f)"
   ],
   "id": "ea2fcd478dee2ed1",
   "outputs": [
    {
     "data": {
      "text/plain": [
       "(1 - x)**2 + 100*(-x**2 + y)**2"
      ],
      "text/latex": "$\\displaystyle \\left(1 - x\\right)^{2} + 100 \\left(- x^{2} + y\\right)^{2}$"
     },
     "metadata": {},
     "output_type": "display_data"
    }
   ],
   "execution_count": 11
  },
  {
   "metadata": {
    "ExecuteTime": {
     "end_time": "2025-01-17T18:35:16.937164Z",
     "start_time": "2025-01-17T18:35:16.901511Z"
    }
   },
   "cell_type": "code",
   "source": [
    "result = levenberg_marquardt(f, x0=x0, variables=variables,\n",
    "                               epsilon=0.5e-6, delta=0.5e-6, eta=0.5e-6,\n",
    "                               verbose=True)\n",
    "minimiser = result['x_min']\n",
    "print()\n",
    "for key, value in result.items():\n",
    "    print(f\"{key} : {value}\")"
   ],
   "id": "1d1e3562546710b3",
   "outputs": [
    {
     "name": "stdout",
     "output_type": "stream",
     "text": [
      "Gradient:\n"
     ]
    },
    {
     "data": {
      "text/plain": [
       "Matrix([\n",
       "[-400*x*(-x**2 + y) + 2*x - 2],\n",
       "[           -200*x**2 + 200*y]])"
      ],
      "text/latex": "$\\displaystyle \\left[\\begin{matrix}- 400 x \\left(- x^{2} + y\\right) + 2 x - 2\\\\- 200 x^{2} + 200 y\\end{matrix}\\right]$"
     },
     "metadata": {},
     "output_type": "display_data"
    },
    {
     "name": "stdout",
     "output_type": "stream",
     "text": [
      "\n",
      "Hessian\n"
     ]
    },
    {
     "data": {
      "text/plain": [
       "Matrix([\n",
       "[2*(600*x**2 - 200*y + 1), -400*x],\n",
       "[                  -400*x,    200]])"
      ],
      "text/latex": "$\\displaystyle \\left[\\begin{matrix}2 \\left(600 x^{2} - 200 y + 1\\right) & - 400 x\\\\- 400 x & 200\\end{matrix}\\right]$"
     },
     "metadata": {},
     "output_type": "display_data"
    },
    {
     "name": "stdout",
     "output_type": "stream",
     "text": [
      "\n",
      "Iteration 1: x = [-1.17517744  1.38226744], f(x) = 4.731547058087791\n",
      "Iteration 2: x = [-0.95950175  0.87526132], f(x) = 4.045602426122242\n",
      "Iteration 3: x = [-0.68974845  0.42055666], f(x) = 3.1599126080779123\n",
      "Iteration 4: x = [-0.33388559  0.06959396], f(x) = 1.9546913481116277\n",
      "Iteration 5: x = [-0.05079191 -0.03609002], f(x) = 1.2536992883120992\n",
      "Iteration 6: x = [0.23894563 0.02760356], f(x) = 0.6661783440560566\n",
      "Iteration 7: x = [0.48216682 0.20885332], f(x) = 0.323996085127117\n",
      "Iteration 8: x = [0.70731766 0.48481075], f(x) = 0.10964927069900578\n",
      "Iteration 9: x = [0.88430005 0.77355009], f(x) = 0.02050392586141154\n",
      "Iteration 10: x = [1.00303761 1.00681595], f(x) = 6.273764723540854e-05\n",
      "Iteration 11: x = [0.99962259 0.99926308], f(x) = 1.7401129055521832e-07\n",
      "Iteration 12: x = [0.99999969 0.99999932], f(x) = 5.124732821866797e-13\n",
      "Iteration 13: x = [1. 1.], f(x) = 1.0146597286593994e-23\n",
      "\n",
      "x_min : [1. 1.]\n",
      "iterations : 13\n",
      "success : True\n",
      "f_min : 1.0146597286593994e-23\n",
      "reason : Gradient norm below tolerance\n"
     ]
    }
   ],
   "execution_count": 12
  },
  {
   "metadata": {},
   "cell_type": "markdown",
   "source": [
    "The `newton_raphson` function saw convergence in 6 iterations...\n",
    "\n",
    "Why Newton–Raphson Performed Better:\n",
    "\n",
    "**Rosenbrock’s Function**:\n",
    "\n",
    "- Near the minimiser $(1, 1)$, Rosenbrock’s function is smooth with a well-behaved Hessian. Newton–Raphson exploits this structure effectively to converge in fewer iterations.\n",
    "- Levenberg–Marquardt’s iterative modification of the Hessian (adding $a\\mathbf{I}$) adds robustness but slows down convergence in such well-behaved cases.\n",
    "\n",
    "**Search Direction**:\n",
    "\n",
    "- Newton–Raphson uses the exact Hessian to compute the search direction, while Levenberg–Marquardt compromises between steepest descent and the Newton–Raphson direction, which can take longer to converge when the problem is simple.\n",
    "\n",
    "**Line Search**:\n",
    "\n",
    "- Levenberg–Marquardt performs a line search at every step, which adds computational overhead and potentially redundant iterations when the Newton–Raphson step is already optimal.\n",
    "\n",
    "\n",
    "\n"
   ],
   "id": "efe8b6248e275821"
  },
  {
   "metadata": {},
   "cell_type": "markdown",
   "source": "----",
   "id": "f7b49de7477a69f6"
  }
 ],
 "metadata": {
  "kernelspec": {
   "display_name": "Python 3",
   "language": "python",
   "name": "python3"
  },
  "language_info": {
   "codemirror_mode": {
    "name": "ipython",
    "version": 2
   },
   "file_extension": ".py",
   "mimetype": "text/x-python",
   "name": "python",
   "nbconvert_exporter": "python",
   "pygments_lexer": "ipython2",
   "version": "2.7.6"
  }
 },
 "nbformat": 4,
 "nbformat_minor": 5
}
